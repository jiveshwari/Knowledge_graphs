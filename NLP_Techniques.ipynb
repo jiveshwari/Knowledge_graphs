{
  "nbformat": 4,
  "nbformat_minor": 0,
  "metadata": {
    "colab": {
      "provenance": []
    },
    "kernelspec": {
      "name": "python3",
      "display_name": "Python 3"
    }
  },
  "cells": [
    {
      "cell_type": "markdown",
      "metadata": {
        "id": "ne-8-JKrtBht"
      },
      "source": [
        "**To adapt this notebook to your own needs** and to be able to edit it, please make a copy of your own. This works via \"*File*\" -> \"*Save a copy ..*.\"\n",
        "\n",
        "\n",
        "---\n",
        "\n"
      ]
    },
    {
      "cell_type": "markdown",
      "metadata": {
        "id": "ZxpoGC4Kc3zf"
      },
      "source": [
        "Some of the **NLP Techniques** mentioned [in Sect. 2.4 of the ISE 2021 lecture](https://www.slideshare.net/lysander07/02-ise2020-natural-language-processing-1-232058444) are already implemented in the [python NLTK library.](https://www.nltk.org/) Please find some basic NLP examples below.\n",
        "\n",
        "# Tokenization\n",
        "Tokenization is the process of separating character sequences into\n",
        "smaller pieces, called tokens. In this process, certain characters\n",
        "might be omitted, such as punctuation (dependening on the\n",
        "tokenizer)."
      ]
    },
    {
      "cell_type": "code",
      "metadata": {
        "id": "IwS0VhZxdFjA"
      },
      "source": [
        "#First we have to import nltk and download a few required packages\n",
        "import nltk\n",
        "nltk.download('punkt')\n",
        "nltk.download('averaged_perceptron_tagger')\n",
        "nltk.download('tagsets')\n",
        "nltk.download('wordnet')\n",
        "nltk.download('maxent_ne_chunker')\n",
        "nltk.download('words')\n",
        "nltk.download('treebank')"
      ],
      "execution_count": null,
      "outputs": []
    },
    {
      "cell_type": "markdown",
      "metadata": {
        "id": "OZo4osPkdiX1"
      },
      "source": [
        "First let's try **Sentence Splitting**:"
      ]
    },
    {
      "cell_type": "code",
      "metadata": {
        "id": "IKAo1y_FdJ-O",
        "colab": {
          "base_uri": "https://localhost:8080/"
        },
        "outputId": "fc3d9608-faf1-4d7a-9ed8-89b7bd25fd48"
      },
      "source": [
        "text=\"On March 21, 1768, French mathematician and physicist Jean Baptiste Joseph du Fourier was born. He is probably best known for his work in thermodynamics, where he introduced the concept of the Fourier Analysis, named in honor after him.\"\n",
        "# We import the two methods required for (1) word-based tokenization, and (2) sentence splitting\n",
        "from nltk.tokenize import word_tokenize, sent_tokenize\n",
        "sents=sent_tokenize(text)\n",
        "print(sents)"
      ],
      "execution_count": 2,
      "outputs": [
        {
          "output_type": "stream",
          "name": "stdout",
          "text": [
            "['On March 21, 1768, French mathematician and physicist Jean Baptiste Joseph du Fourier was born.', 'He is probably best known for his work in thermodynamics, where he introduced the concept of the Fourier Analysis, named in honor after him.']\n"
          ]
        }
      ]
    },
    {
      "cell_type": "markdown",
      "metadata": {
        "id": "Hq4Z8Pw2drEr"
      },
      "source": [
        "Now, let's try **Words**:"
      ]
    },
    {
      "cell_type": "code",
      "metadata": {
        "id": "8VJ4dsf1dusB",
        "colab": {
          "base_uri": "https://localhost:8080/"
        },
        "outputId": "590122e4-875e-4ba2-ed8c-0f8535440596"
      },
      "source": [
        "words=[word_tokenize(sent) for sent in sents]\n",
        "print(words)"
      ],
      "execution_count": null,
      "outputs": [
        {
          "output_type": "stream",
          "name": "stdout",
          "text": [
            "[['On', 'March', '21', ',', '1768', ',', 'French', 'mathematician', 'and', 'physicist', 'Jean', 'Baptiste', 'Joseph', 'du', 'Fourier', 'was', 'born', '.'], ['He', 'is', 'probably', 'best', 'known', 'for', 'his', 'work', 'in', 'thermodynamics', ',', 'where', 'he', 'introduced', 'the', 'concept', 'of', 'the', 'Fourier', 'Analysis', ',', 'named', 'in', 'honor', 'after', 'him', '.']]\n"
          ]
        }
      ]
    },
    {
      "cell_type": "markdown",
      "metadata": {
        "id": "1BCCTcfJebvq"
      },
      "source": [
        "# Part-of-Speech tagging\n",
        "Part-of-speech tagging classifies words into their part-of-speech\n",
        "and labels them according to a specified tagset. Most commonly\n",
        "the [Penn Treebank tagset](https://www.ling.upenn.edu/courses/Fall_2003/ling001/penn_treebank_pos.html) is used."
      ]
    },
    {
      "cell_type": "code",
      "metadata": {
        "id": "d4o-ztO3eQ1x",
        "colab": {
          "base_uri": "https://localhost:8080/"
        },
        "outputId": "879c3428-ba83-4db3-d0bd-852864271747"
      },
      "source": [
        "# each word in the text will be assigned a POS tag\n",
        "nltk.pos_tag(word_tokenize(text))"
      ],
      "execution_count": null,
      "outputs": [
        {
          "output_type": "execute_result",
          "data": {
            "text/plain": [
              "[('On', 'IN'),\n",
              " ('March', 'NNP'),\n",
              " ('21', 'CD'),\n",
              " (',', ','),\n",
              " ('1768', 'CD'),\n",
              " (',', ','),\n",
              " ('French', 'JJ'),\n",
              " ('mathematician', 'NN'),\n",
              " ('and', 'CC'),\n",
              " ('physicist', 'JJ'),\n",
              " ('Jean', 'NNP'),\n",
              " ('Baptiste', 'NNP'),\n",
              " ('Joseph', 'NNP'),\n",
              " ('du', 'NNP'),\n",
              " ('Fourier', 'NNP'),\n",
              " ('was', 'VBD'),\n",
              " ('born', 'VBN'),\n",
              " ('.', '.'),\n",
              " ('He', 'PRP'),\n",
              " ('is', 'VBZ'),\n",
              " ('probably', 'RB'),\n",
              " ('best', 'RBS'),\n",
              " ('known', 'VBN'),\n",
              " ('for', 'IN'),\n",
              " ('his', 'PRP$'),\n",
              " ('work', 'NN'),\n",
              " ('in', 'IN'),\n",
              " ('thermodynamics', 'NNS'),\n",
              " (',', ','),\n",
              " ('where', 'WRB'),\n",
              " ('he', 'PRP'),\n",
              " ('introduced', 'VBD'),\n",
              " ('the', 'DT'),\n",
              " ('concept', 'NN'),\n",
              " ('of', 'IN'),\n",
              " ('the', 'DT'),\n",
              " ('Fourier', 'NNP'),\n",
              " ('Analysis', 'NNP'),\n",
              " (',', ','),\n",
              " ('named', 'VBN'),\n",
              " ('in', 'IN'),\n",
              " ('honor', 'NN'),\n",
              " ('after', 'IN'),\n",
              " ('him', 'PRP'),\n",
              " ('.', '.')]"
            ]
          },
          "metadata": {},
          "execution_count": 5
        }
      ]
    },
    {
      "cell_type": "code",
      "metadata": {
        "id": "gprSb4QQew3e",
        "colab": {
          "base_uri": "https://localhost:8080/"
        },
        "outputId": "f37ffee5-bc2c-47ba-f4da-f9253cdcc1d2"
      },
      "source": [
        "# in case you don't know the meaning of some of the POS tags\n",
        "nltk.help. upenn_tagset ('NNP')\n",
        "nltk.help. upenn_tagset ('JJ')\n",
        "nltk.help. upenn_tagset ('PRP$')"
      ],
      "execution_count": null,
      "outputs": [
        {
          "output_type": "stream",
          "name": "stdout",
          "text": [
            "NNP: noun, proper, singular\n",
            "    Motown Venneboerger Czestochwa Ranzer Conchita Trumplane Christos\n",
            "    Oceanside Escobar Kreisler Sawyer Cougar Yvette Ervin ODI Darryl CTCA\n",
            "    Shannon A.K.C. Meltex Liverpool ...\n",
            "JJ: adjective or numeral, ordinal\n",
            "    third ill-mannered pre-war regrettable oiled calamitous first separable\n",
            "    ectoplasmic battery-powered participatory fourth still-to-be-named\n",
            "    multilingual multi-disciplinary ...\n",
            "PRP$: pronoun, possessive\n",
            "    her his mine my our ours their thy your\n"
          ]
        }
      ]
    },
    {
      "cell_type": "markdown",
      "metadata": {
        "id": "D_Cb-LBifgbM"
      },
      "source": [
        "# Lemmatization\n",
        "* Lemmatization groups words together that have different inflections so that they can be treated as the same item.\n",
        "* It reduces a word to its baseform using a online lexicon. \n",
        "\n",
        "*For Lemmatization, NLTK provides an interface to the [WordNet](https://wordnet.princeton.edu/) dictionary. WordNet is a large English lexical database. Nouns, verbs, adjectives, and adverbs are grouped into sets of cognitive synonyms (synsets), each expressing a distinct concept.*\n",
        "\n"
      ]
    },
    {
      "cell_type": "code",
      "metadata": {
        "id": "Ea-fgIiJf1T0",
        "colab": {
          "base_uri": "https://localhost:8080/"
        },
        "outputId": "fc290ecb-66ed-4ebe-83c0-4a690a7cd81f"
      },
      "source": [
        "# we import the WordNet lemmatizer\n",
        "nltk.download('omw-1.4')\n",
        "from nltk.stem import WordNetLemmatizer\n",
        "# new text example\n",
        "sentence = \"On March 21, 1768, French mathematician and physicist Jean Baptiste Joseph du Fourier was born.\"\n",
        "\n",
        "lemmatizer = WordNetLemmatizer()\n",
        "# for each word of the sentence\n",
        "for token in word_tokenize(sentence):\n",
        "  print(lemmatizer.lemmatize(token, pos='v'))"
      ],
      "execution_count": null,
      "outputs": [
        {
          "output_type": "stream",
          "name": "stderr",
          "text": [
            "[nltk_data] Downloading package omw-1.4 to /root/nltk_data...\n"
          ]
        },
        {
          "output_type": "stream",
          "name": "stdout",
          "text": [
            "On\n",
            "March\n",
            "21\n",
            ",\n",
            "1768\n",
            ",\n",
            "French\n",
            "mathematician\n",
            "and\n",
            "physicist\n",
            "Jean\n",
            "Baptiste\n",
            "Joseph\n",
            "du\n",
            "Fourier\n",
            "be\n",
            "bear\n",
            ".\n"
          ]
        }
      ]
    },
    {
      "cell_type": "markdown",
      "metadata": {
        "id": "2KXDZz8uiim0"
      },
      "source": [
        "# Stemming\n",
        "* Stemming strips the words of its suffixes and prefixes. For English, the [Porter Stemmer](http://snowball.tartarus.org/algorithms/porter/stemmer.html) is rather popular."
      ]
    },
    {
      "cell_type": "code",
      "metadata": {
        "id": "pKRYxpuViNbU",
        "colab": {
          "base_uri": "https://localhost:8080/"
        },
        "outputId": "55769c33-c31e-440f-8f69-69ab8fad76b6"
      },
      "source": [
        "# we import the Porter Stemmer\n",
        "from nltk.stem import PorterStemmer\n",
        "sentence = \"On March 21, 1768, French mathematician and physicist Jean Baptiste Joseph du Fourier was born.\"\n",
        "\n",
        "ps = PorterStemmer()\n",
        "# for each word of the sentence\n",
        "for token in word_tokenize(sentence):\n",
        "  print(ps.stem(token))"
      ],
      "execution_count": null,
      "outputs": [
        {
          "output_type": "stream",
          "name": "stdout",
          "text": [
            "on\n",
            "march\n",
            "21\n",
            ",\n",
            "1768\n",
            ",\n",
            "french\n",
            "mathematician\n",
            "and\n",
            "physicist\n",
            "jean\n",
            "baptist\n",
            "joseph\n",
            "du\n",
            "fourier\n",
            "wa\n",
            "born\n",
            ".\n"
          ]
        }
      ]
    },
    {
      "cell_type": "markdown",
      "metadata": {
        "id": "Pl-Dk-KslBRk"
      },
      "source": [
        "# Named Entity Recognition (NER)\n",
        "Locating and classifying atomic elements into predefined categories such as **names, persons, organizations, locations, expressions of time, quantities, monetary values**, etc.\n",
        "\n",
        "*For casual use, NLTK provides us with a method called `ne_chunk` to perform NER on a given text. In order to use `ne_chunk`, the text needs to first be tokenized into words and then POS tagged. After NER, the tagged words depict their respective entity type*"
      ]
    },
    {
      "cell_type": "code",
      "metadata": {
        "id": "mQB_knB_lHqe",
        "colab": {
          "base_uri": "https://localhost:8080/"
        },
        "outputId": "3345d133-cfbf-4087-b25b-bdb61df5cf6f"
      },
      "source": [
        "# For NER, we need tokenization, POS tagging and Named Entity Chunking\n",
        "from nltk import word_tokenize, pos_tag, ne_chunk\n",
        "# New text example\n",
        "sentence = \"On March 21, 1768, French mathematician and physicist Jean Baptiste Joseph du Fourier was born.\"\n",
        "print (ne_chunk(pos_tag(word_tokenize(sentence))))"
      ],
      "execution_count": null,
      "outputs": [
        {
          "output_type": "stream",
          "name": "stdout",
          "text": [
            "(S\n",
            "  On/IN\n",
            "  March/NNP\n",
            "  21/CD\n",
            "  ,/,\n",
            "  1768/CD\n",
            "  ,/,\n",
            "  (GPE French/JJ)\n",
            "  mathematician/NN\n",
            "  and/CC\n",
            "  physicist/JJ\n",
            "  (PERSON Jean/NNP Baptiste/NNP Joseph/NNP)\n",
            "  du/NNP\n",
            "  Fourier/NNP\n",
            "  was/VBD\n",
            "  born/VBN\n",
            "  ./.)\n"
          ]
        }
      ]
    },
    {
      "cell_type": "markdown",
      "metadata": {
        "id": "cAZGXYlBXxbk"
      },
      "source": [
        "Now let's try an **alternativ NLP Library: [spacy]**(https://spacy.io/)."
      ]
    },
    {
      "cell_type": "code",
      "metadata": {
        "id": "dRJDsTKCVrJ8",
        "colab": {
          "base_uri": "https://localhost:8080/"
        },
        "outputId": "d91ad91b-aaa3-4afd-b3d0-607e13480ffd"
      },
      "source": [
        "!python -m spacy download en"
      ],
      "execution_count": null,
      "outputs": [
        {
          "output_type": "stream",
          "name": "stdout",
          "text": [
            "2022-09-15 08:45:51.749977: E tensorflow/stream_executor/cuda/cuda_driver.cc:271] failed call to cuInit: CUDA_ERROR_NO_DEVICE: no CUDA-capable device is detected\n",
            "\u001b[38;5;3m⚠ As of spaCy v3.0, shortcuts like 'en' are deprecated. Please use the\n",
            "full pipeline package name 'en_core_web_sm' instead.\u001b[0m\n",
            "Looking in indexes: https://pypi.org/simple, https://us-python.pkg.dev/colab-wheels/public/simple/\n",
            "Collecting en-core-web-sm==3.4.0\n",
            "  Downloading https://github.com/explosion/spacy-models/releases/download/en_core_web_sm-3.4.0/en_core_web_sm-3.4.0-py3-none-any.whl (12.8 MB)\n",
            "\u001b[K     |████████████████████████████████| 12.8 MB 7.8 MB/s \n",
            "\u001b[?25hRequirement already satisfied: spacy<3.5.0,>=3.4.0 in /usr/local/lib/python3.7/dist-packages (from en-core-web-sm==3.4.0) (3.4.1)\n",
            "Requirement already satisfied: langcodes<4.0.0,>=3.2.0 in /usr/local/lib/python3.7/dist-packages (from spacy<3.5.0,>=3.4.0->en-core-web-sm==3.4.0) (3.3.0)\n",
            "Requirement already satisfied: murmurhash<1.1.0,>=0.28.0 in /usr/local/lib/python3.7/dist-packages (from spacy<3.5.0,>=3.4.0->en-core-web-sm==3.4.0) (1.0.8)\n",
            "Requirement already satisfied: spacy-loggers<2.0.0,>=1.0.0 in /usr/local/lib/python3.7/dist-packages (from spacy<3.5.0,>=3.4.0->en-core-web-sm==3.4.0) (1.0.3)\n",
            "Requirement already satisfied: preshed<3.1.0,>=3.0.2 in /usr/local/lib/python3.7/dist-packages (from spacy<3.5.0,>=3.4.0->en-core-web-sm==3.4.0) (3.0.7)\n",
            "Requirement already satisfied: pydantic!=1.8,!=1.8.1,<1.10.0,>=1.7.4 in /usr/local/lib/python3.7/dist-packages (from spacy<3.5.0,>=3.4.0->en-core-web-sm==3.4.0) (1.9.2)\n",
            "Requirement already satisfied: packaging>=20.0 in /usr/local/lib/python3.7/dist-packages (from spacy<3.5.0,>=3.4.0->en-core-web-sm==3.4.0) (21.3)\n",
            "Requirement already satisfied: srsly<3.0.0,>=2.4.3 in /usr/local/lib/python3.7/dist-packages (from spacy<3.5.0,>=3.4.0->en-core-web-sm==3.4.0) (2.4.4)\n",
            "Requirement already satisfied: setuptools in /usr/local/lib/python3.7/dist-packages (from spacy<3.5.0,>=3.4.0->en-core-web-sm==3.4.0) (57.4.0)\n",
            "Requirement already satisfied: cymem<2.1.0,>=2.0.2 in /usr/local/lib/python3.7/dist-packages (from spacy<3.5.0,>=3.4.0->en-core-web-sm==3.4.0) (2.0.6)\n",
            "Requirement already satisfied: jinja2 in /usr/local/lib/python3.7/dist-packages (from spacy<3.5.0,>=3.4.0->en-core-web-sm==3.4.0) (2.11.3)\n",
            "Requirement already satisfied: numpy>=1.15.0 in /usr/local/lib/python3.7/dist-packages (from spacy<3.5.0,>=3.4.0->en-core-web-sm==3.4.0) (1.21.6)\n",
            "Requirement already satisfied: catalogue<2.1.0,>=2.0.6 in /usr/local/lib/python3.7/dist-packages (from spacy<3.5.0,>=3.4.0->en-core-web-sm==3.4.0) (2.0.8)\n",
            "Requirement already satisfied: tqdm<5.0.0,>=4.38.0 in /usr/local/lib/python3.7/dist-packages (from spacy<3.5.0,>=3.4.0->en-core-web-sm==3.4.0) (4.64.1)\n",
            "Requirement already satisfied: pathy>=0.3.5 in /usr/local/lib/python3.7/dist-packages (from spacy<3.5.0,>=3.4.0->en-core-web-sm==3.4.0) (0.6.2)\n",
            "Requirement already satisfied: thinc<8.2.0,>=8.1.0 in /usr/local/lib/python3.7/dist-packages (from spacy<3.5.0,>=3.4.0->en-core-web-sm==3.4.0) (8.1.0)\n",
            "Requirement already satisfied: typing-extensions<4.2.0,>=3.7.4 in /usr/local/lib/python3.7/dist-packages (from spacy<3.5.0,>=3.4.0->en-core-web-sm==3.4.0) (4.1.1)\n",
            "Requirement already satisfied: spacy-legacy<3.1.0,>=3.0.9 in /usr/local/lib/python3.7/dist-packages (from spacy<3.5.0,>=3.4.0->en-core-web-sm==3.4.0) (3.0.10)\n",
            "Requirement already satisfied: wasabi<1.1.0,>=0.9.1 in /usr/local/lib/python3.7/dist-packages (from spacy<3.5.0,>=3.4.0->en-core-web-sm==3.4.0) (0.10.1)\n",
            "Requirement already satisfied: requests<3.0.0,>=2.13.0 in /usr/local/lib/python3.7/dist-packages (from spacy<3.5.0,>=3.4.0->en-core-web-sm==3.4.0) (2.23.0)\n",
            "Requirement already satisfied: typer<0.5.0,>=0.3.0 in /usr/local/lib/python3.7/dist-packages (from spacy<3.5.0,>=3.4.0->en-core-web-sm==3.4.0) (0.4.2)\n",
            "Requirement already satisfied: zipp>=0.5 in /usr/local/lib/python3.7/dist-packages (from catalogue<2.1.0,>=2.0.6->spacy<3.5.0,>=3.4.0->en-core-web-sm==3.4.0) (3.8.1)\n",
            "Requirement already satisfied: pyparsing!=3.0.5,>=2.0.2 in /usr/local/lib/python3.7/dist-packages (from packaging>=20.0->spacy<3.5.0,>=3.4.0->en-core-web-sm==3.4.0) (3.0.9)\n",
            "Requirement already satisfied: smart-open<6.0.0,>=5.2.1 in /usr/local/lib/python3.7/dist-packages (from pathy>=0.3.5->spacy<3.5.0,>=3.4.0->en-core-web-sm==3.4.0) (5.2.1)\n",
            "Requirement already satisfied: certifi>=2017.4.17 in /usr/local/lib/python3.7/dist-packages (from requests<3.0.0,>=2.13.0->spacy<3.5.0,>=3.4.0->en-core-web-sm==3.4.0) (2022.6.15)\n",
            "Requirement already satisfied: chardet<4,>=3.0.2 in /usr/local/lib/python3.7/dist-packages (from requests<3.0.0,>=2.13.0->spacy<3.5.0,>=3.4.0->en-core-web-sm==3.4.0) (3.0.4)\n",
            "Requirement already satisfied: urllib3!=1.25.0,!=1.25.1,<1.26,>=1.21.1 in /usr/local/lib/python3.7/dist-packages (from requests<3.0.0,>=2.13.0->spacy<3.5.0,>=3.4.0->en-core-web-sm==3.4.0) (1.24.3)\n",
            "Requirement already satisfied: idna<3,>=2.5 in /usr/local/lib/python3.7/dist-packages (from requests<3.0.0,>=2.13.0->spacy<3.5.0,>=3.4.0->en-core-web-sm==3.4.0) (2.10)\n",
            "Requirement already satisfied: blis<0.8.0,>=0.7.8 in /usr/local/lib/python3.7/dist-packages (from thinc<8.2.0,>=8.1.0->spacy<3.5.0,>=3.4.0->en-core-web-sm==3.4.0) (0.7.8)\n",
            "Requirement already satisfied: click<9.0.0,>=7.1.1 in /usr/local/lib/python3.7/dist-packages (from typer<0.5.0,>=0.3.0->spacy<3.5.0,>=3.4.0->en-core-web-sm==3.4.0) (7.1.2)\n",
            "Requirement already satisfied: MarkupSafe>=0.23 in /usr/local/lib/python3.7/dist-packages (from jinja2->spacy<3.5.0,>=3.4.0->en-core-web-sm==3.4.0) (2.0.1)\n",
            "\u001b[38;5;2m✔ Download and installation successful\u001b[0m\n",
            "You can now load the package via spacy.load('en_core_web_sm')\n"
          ]
        }
      ]
    },
    {
      "cell_type": "code",
      "metadata": {
        "id": "mBNwNzLAWGFH"
      },
      "source": [
        "import spacy\n",
        "nlp = spacy.load(\"en_core_web_sm\")"
      ],
      "execution_count": null,
      "outputs": []
    },
    {
      "cell_type": "markdown",
      "metadata": {
        "id": "mAjtTWnxYg1E"
      },
      "source": [
        "We first start with **Named Entity Recognition **"
      ]
    },
    {
      "cell_type": "code",
      "metadata": {
        "id": "cLqgaHyFYa7Z",
        "colab": {
          "base_uri": "https://localhost:8080/",
          "height": 123
        },
        "outputId": "00aa14b2-39a5-43e5-a1e6-15afc916e76d"
      },
      "source": [
        "doc = nlp(u'On March 21, 1768, French mathematician and physicist Jean Baptiste Joseph du Fourier was born.')\n",
        "\n",
        " \n",
        "# Named Entity Recognition\n",
        "for ent in doc.ents:\n",
        "    print(ent.text, ent.label_)\n",
        "    \n",
        "# displaCy\n",
        "from spacy import displacy\n",
        "displacy.render(doc, style='ent', jupyter=True)"
      ],
      "execution_count": null,
      "outputs": [
        {
          "output_type": "stream",
          "name": "stdout",
          "text": [
            "March 21, 1768 DATE\n",
            "French NORP\n",
            "Jean Baptiste PERSON\n",
            "Joseph du Fourier PERSON\n"
          ]
        },
        {
          "output_type": "display_data",
          "data": {
            "text/plain": [
              "<IPython.core.display.HTML object>"
            ],
            "text/html": [
              "<span class=\"tex2jax_ignore\"><div class=\"entities\" style=\"line-height: 2.5; direction: ltr\">On \n",
              "<mark class=\"entity\" style=\"background: #bfe1d9; padding: 0.45em 0.6em; margin: 0 0.25em; line-height: 1; border-radius: 0.35em;\">\n",
              "    March 21, 1768\n",
              "    <span style=\"font-size: 0.8em; font-weight: bold; line-height: 1; border-radius: 0.35em; vertical-align: middle; margin-left: 0.5rem\">DATE</span>\n",
              "</mark>\n",
              ", \n",
              "<mark class=\"entity\" style=\"background: #c887fb; padding: 0.45em 0.6em; margin: 0 0.25em; line-height: 1; border-radius: 0.35em;\">\n",
              "    French\n",
              "    <span style=\"font-size: 0.8em; font-weight: bold; line-height: 1; border-radius: 0.35em; vertical-align: middle; margin-left: 0.5rem\">NORP</span>\n",
              "</mark>\n",
              " mathematician and physicist \n",
              "<mark class=\"entity\" style=\"background: #aa9cfc; padding: 0.45em 0.6em; margin: 0 0.25em; line-height: 1; border-radius: 0.35em;\">\n",
              "    Jean Baptiste\n",
              "    <span style=\"font-size: 0.8em; font-weight: bold; line-height: 1; border-radius: 0.35em; vertical-align: middle; margin-left: 0.5rem\">PERSON</span>\n",
              "</mark>\n",
              " \n",
              "<mark class=\"entity\" style=\"background: #aa9cfc; padding: 0.45em 0.6em; margin: 0 0.25em; line-height: 1; border-radius: 0.35em;\">\n",
              "    Joseph du Fourier\n",
              "    <span style=\"font-size: 0.8em; font-weight: bold; line-height: 1; border-radius: 0.35em; vertical-align: middle; margin-left: 0.5rem\">PERSON</span>\n",
              "</mark>\n",
              " was born.</div></span>"
            ]
          },
          "metadata": {}
        }
      ]
    },
    {
      "cell_type": "markdown",
      "metadata": {
        "id": "508M9_kMYmkR"
      },
      "source": [
        "# Dependency Parsing\n",
        "Dependency Parsing is an approximation of semantic relations between arguments. It relies on direct binary grammatical relations among words.\n"
      ]
    },
    {
      "cell_type": "code",
      "metadata": {
        "id": "39Q5mDkMXoPc",
        "colab": {
          "base_uri": "https://localhost:8080/"
        },
        "outputId": "09b6779a-95bf-416a-d9e9-850118b302e3"
      },
      "source": [
        "# Dependency Parsing\n",
        "\n",
        "doc = nlp(u'On March 21, 1768, French mathematician and physicist Jean Baptiste Joseph du Fourier was born.')\n",
        " \n",
        "for token in doc:\n",
        "    print(\"{0}/{1} <--{2}-- {3}/{4}\".format(\n",
        "        token.text, token.tag_, token.dep_, token.head.text, token.head.tag_))"
      ],
      "execution_count": null,
      "outputs": [
        {
          "output_type": "stream",
          "name": "stdout",
          "text": [
            "On/IN <--prep-- born/VBN\n",
            "March/NNP <--pobj-- On/IN\n",
            "21/CD <--nummod-- March/NNP\n",
            ",/, <--punct-- March/NNP\n",
            "1768/CD <--nummod-- March/NNP\n",
            ",/, <--punct-- born/VBN\n",
            "French/JJ <--amod-- mathematician/NN\n",
            "mathematician/NN <--nsubjpass-- born/VBN\n",
            "and/CC <--cc-- mathematician/NN\n",
            "physicist/NN <--conj-- mathematician/NN\n",
            "Jean/NNP <--compound-- Baptiste/NNP\n",
            "Baptiste/NNP <--compound-- Fourier/NNP\n",
            "Joseph/NNP <--compound-- Fourier/NNP\n",
            "du/NNP <--compound-- Fourier/NNP\n",
            "Fourier/NNP <--conj-- mathematician/NN\n",
            "was/VBD <--auxpass-- born/VBN\n",
            "born/VBN <--ROOT-- born/VBN\n",
            "./. <--punct-- born/VBN\n"
          ]
        }
      ]
    },
    {
      "cell_type": "code",
      "metadata": {
        "id": "_RcDA89AY6Jp",
        "colab": {
          "base_uri": "https://localhost:8080/",
          "height": 448
        },
        "outputId": "c429eaea-b206-42ce-bcdd-1873f8a114da"
      },
      "source": [
        "# Visualizing Dependency Parsing\n",
        "\n",
        "from spacy import displacy\n",
        " \n",
        "doc = nlp(u'On March 21, 1768, French mathematician and physicist Jean Baptiste Joseph du Fourier was born.')\n",
        "displacy.render(doc, style='dep', jupyter=True, options={'distance': 90})"
      ],
      "execution_count": null,
      "outputs": [
        {
          "output_type": "display_data",
          "data": {
            "text/plain": [
              "<IPython.core.display.HTML object>"
            ],
            "text/html": [
              "<span class=\"tex2jax_ignore\"><svg xmlns=\"http://www.w3.org/2000/svg\" xmlns:xlink=\"http://www.w3.org/1999/xlink\" xml:lang=\"en\" id=\"a808d478ac024410a2d97c549adea5f6-0\" class=\"displacy\" width=\"1400\" height=\"407.0\" direction=\"ltr\" style=\"max-width: none; height: 407.0px; color: #000000; background: #ffffff; font-family: Arial; direction: ltr\">\n",
              "<text class=\"displacy-token\" fill=\"currentColor\" text-anchor=\"middle\" y=\"317.0\">\n",
              "    <tspan class=\"displacy-word\" fill=\"currentColor\" x=\"50\">On</tspan>\n",
              "    <tspan class=\"displacy-tag\" dy=\"2em\" fill=\"currentColor\" x=\"50\">ADP</tspan>\n",
              "</text>\n",
              "\n",
              "<text class=\"displacy-token\" fill=\"currentColor\" text-anchor=\"middle\" y=\"317.0\">\n",
              "    <tspan class=\"displacy-word\" fill=\"currentColor\" x=\"140\">March</tspan>\n",
              "    <tspan class=\"displacy-tag\" dy=\"2em\" fill=\"currentColor\" x=\"140\">PROPN</tspan>\n",
              "</text>\n",
              "\n",
              "<text class=\"displacy-token\" fill=\"currentColor\" text-anchor=\"middle\" y=\"317.0\">\n",
              "    <tspan class=\"displacy-word\" fill=\"currentColor\" x=\"230\">21,</tspan>\n",
              "    <tspan class=\"displacy-tag\" dy=\"2em\" fill=\"currentColor\" x=\"230\">NUM</tspan>\n",
              "</text>\n",
              "\n",
              "<text class=\"displacy-token\" fill=\"currentColor\" text-anchor=\"middle\" y=\"317.0\">\n",
              "    <tspan class=\"displacy-word\" fill=\"currentColor\" x=\"320\">1768,</tspan>\n",
              "    <tspan class=\"displacy-tag\" dy=\"2em\" fill=\"currentColor\" x=\"320\">NUM</tspan>\n",
              "</text>\n",
              "\n",
              "<text class=\"displacy-token\" fill=\"currentColor\" text-anchor=\"middle\" y=\"317.0\">\n",
              "    <tspan class=\"displacy-word\" fill=\"currentColor\" x=\"410\">French</tspan>\n",
              "    <tspan class=\"displacy-tag\" dy=\"2em\" fill=\"currentColor\" x=\"410\">ADJ</tspan>\n",
              "</text>\n",
              "\n",
              "<text class=\"displacy-token\" fill=\"currentColor\" text-anchor=\"middle\" y=\"317.0\">\n",
              "    <tspan class=\"displacy-word\" fill=\"currentColor\" x=\"500\">mathematician</tspan>\n",
              "    <tspan class=\"displacy-tag\" dy=\"2em\" fill=\"currentColor\" x=\"500\">NOUN</tspan>\n",
              "</text>\n",
              "\n",
              "<text class=\"displacy-token\" fill=\"currentColor\" text-anchor=\"middle\" y=\"317.0\">\n",
              "    <tspan class=\"displacy-word\" fill=\"currentColor\" x=\"590\">and</tspan>\n",
              "    <tspan class=\"displacy-tag\" dy=\"2em\" fill=\"currentColor\" x=\"590\">CCONJ</tspan>\n",
              "</text>\n",
              "\n",
              "<text class=\"displacy-token\" fill=\"currentColor\" text-anchor=\"middle\" y=\"317.0\">\n",
              "    <tspan class=\"displacy-word\" fill=\"currentColor\" x=\"680\">physicist</tspan>\n",
              "    <tspan class=\"displacy-tag\" dy=\"2em\" fill=\"currentColor\" x=\"680\">NOUN</tspan>\n",
              "</text>\n",
              "\n",
              "<text class=\"displacy-token\" fill=\"currentColor\" text-anchor=\"middle\" y=\"317.0\">\n",
              "    <tspan class=\"displacy-word\" fill=\"currentColor\" x=\"770\">Jean</tspan>\n",
              "    <tspan class=\"displacy-tag\" dy=\"2em\" fill=\"currentColor\" x=\"770\">PROPN</tspan>\n",
              "</text>\n",
              "\n",
              "<text class=\"displacy-token\" fill=\"currentColor\" text-anchor=\"middle\" y=\"317.0\">\n",
              "    <tspan class=\"displacy-word\" fill=\"currentColor\" x=\"860\">Baptiste</tspan>\n",
              "    <tspan class=\"displacy-tag\" dy=\"2em\" fill=\"currentColor\" x=\"860\">PROPN</tspan>\n",
              "</text>\n",
              "\n",
              "<text class=\"displacy-token\" fill=\"currentColor\" text-anchor=\"middle\" y=\"317.0\">\n",
              "    <tspan class=\"displacy-word\" fill=\"currentColor\" x=\"950\">Joseph</tspan>\n",
              "    <tspan class=\"displacy-tag\" dy=\"2em\" fill=\"currentColor\" x=\"950\">PROPN</tspan>\n",
              "</text>\n",
              "\n",
              "<text class=\"displacy-token\" fill=\"currentColor\" text-anchor=\"middle\" y=\"317.0\">\n",
              "    <tspan class=\"displacy-word\" fill=\"currentColor\" x=\"1040\">du</tspan>\n",
              "    <tspan class=\"displacy-tag\" dy=\"2em\" fill=\"currentColor\" x=\"1040\">PROPN</tspan>\n",
              "</text>\n",
              "\n",
              "<text class=\"displacy-token\" fill=\"currentColor\" text-anchor=\"middle\" y=\"317.0\">\n",
              "    <tspan class=\"displacy-word\" fill=\"currentColor\" x=\"1130\">Fourier</tspan>\n",
              "    <tspan class=\"displacy-tag\" dy=\"2em\" fill=\"currentColor\" x=\"1130\">PROPN</tspan>\n",
              "</text>\n",
              "\n",
              "<text class=\"displacy-token\" fill=\"currentColor\" text-anchor=\"middle\" y=\"317.0\">\n",
              "    <tspan class=\"displacy-word\" fill=\"currentColor\" x=\"1220\">was</tspan>\n",
              "    <tspan class=\"displacy-tag\" dy=\"2em\" fill=\"currentColor\" x=\"1220\">AUX</tspan>\n",
              "</text>\n",
              "\n",
              "<text class=\"displacy-token\" fill=\"currentColor\" text-anchor=\"middle\" y=\"317.0\">\n",
              "    <tspan class=\"displacy-word\" fill=\"currentColor\" x=\"1310\">born.</tspan>\n",
              "    <tspan class=\"displacy-tag\" dy=\"2em\" fill=\"currentColor\" x=\"1310\">VERB</tspan>\n",
              "</text>\n",
              "\n",
              "<g class=\"displacy-arrow\">\n",
              "    <path class=\"displacy-arc\" id=\"arrow-a808d478ac024410a2d97c549adea5f6-0-0\" stroke-width=\"2px\" d=\"M70,272.0 C70,2.0 1310.0,2.0 1310.0,272.0\" fill=\"none\" stroke=\"currentColor\"/>\n",
              "    <text dy=\"1.25em\" style=\"font-size: 0.8em; letter-spacing: 1px\">\n",
              "        <textPath xlink:href=\"#arrow-a808d478ac024410a2d97c549adea5f6-0-0\" class=\"displacy-label\" startOffset=\"50%\" side=\"left\" fill=\"currentColor\" text-anchor=\"middle\">prep</textPath>\n",
              "    </text>\n",
              "    <path class=\"displacy-arrowhead\" d=\"M70,274.0 L62,262.0 78,262.0\" fill=\"currentColor\"/>\n",
              "</g>\n",
              "\n",
              "<g class=\"displacy-arrow\">\n",
              "    <path class=\"displacy-arc\" id=\"arrow-a808d478ac024410a2d97c549adea5f6-0-1\" stroke-width=\"2px\" d=\"M70,272.0 C70,227.0 115.0,227.0 115.0,272.0\" fill=\"none\" stroke=\"currentColor\"/>\n",
              "    <text dy=\"1.25em\" style=\"font-size: 0.8em; letter-spacing: 1px\">\n",
              "        <textPath xlink:href=\"#arrow-a808d478ac024410a2d97c549adea5f6-0-1\" class=\"displacy-label\" startOffset=\"50%\" side=\"left\" fill=\"currentColor\" text-anchor=\"middle\">pobj</textPath>\n",
              "    </text>\n",
              "    <path class=\"displacy-arrowhead\" d=\"M115.0,274.0 L123.0,262.0 107.0,262.0\" fill=\"currentColor\"/>\n",
              "</g>\n",
              "\n",
              "<g class=\"displacy-arrow\">\n",
              "    <path class=\"displacy-arc\" id=\"arrow-a808d478ac024410a2d97c549adea5f6-0-2\" stroke-width=\"2px\" d=\"M160,272.0 C160,227.0 205.0,227.0 205.0,272.0\" fill=\"none\" stroke=\"currentColor\"/>\n",
              "    <text dy=\"1.25em\" style=\"font-size: 0.8em; letter-spacing: 1px\">\n",
              "        <textPath xlink:href=\"#arrow-a808d478ac024410a2d97c549adea5f6-0-2\" class=\"displacy-label\" startOffset=\"50%\" side=\"left\" fill=\"currentColor\" text-anchor=\"middle\">nummod</textPath>\n",
              "    </text>\n",
              "    <path class=\"displacy-arrowhead\" d=\"M205.0,274.0 L213.0,262.0 197.0,262.0\" fill=\"currentColor\"/>\n",
              "</g>\n",
              "\n",
              "<g class=\"displacy-arrow\">\n",
              "    <path class=\"displacy-arc\" id=\"arrow-a808d478ac024410a2d97c549adea5f6-0-3\" stroke-width=\"2px\" d=\"M160,272.0 C160,182.0 300.0,182.0 300.0,272.0\" fill=\"none\" stroke=\"currentColor\"/>\n",
              "    <text dy=\"1.25em\" style=\"font-size: 0.8em; letter-spacing: 1px\">\n",
              "        <textPath xlink:href=\"#arrow-a808d478ac024410a2d97c549adea5f6-0-3\" class=\"displacy-label\" startOffset=\"50%\" side=\"left\" fill=\"currentColor\" text-anchor=\"middle\">nummod</textPath>\n",
              "    </text>\n",
              "    <path class=\"displacy-arrowhead\" d=\"M300.0,274.0 L308.0,262.0 292.0,262.0\" fill=\"currentColor\"/>\n",
              "</g>\n",
              "\n",
              "<g class=\"displacy-arrow\">\n",
              "    <path class=\"displacy-arc\" id=\"arrow-a808d478ac024410a2d97c549adea5f6-0-4\" stroke-width=\"2px\" d=\"M430,272.0 C430,227.0 475.0,227.0 475.0,272.0\" fill=\"none\" stroke=\"currentColor\"/>\n",
              "    <text dy=\"1.25em\" style=\"font-size: 0.8em; letter-spacing: 1px\">\n",
              "        <textPath xlink:href=\"#arrow-a808d478ac024410a2d97c549adea5f6-0-4\" class=\"displacy-label\" startOffset=\"50%\" side=\"left\" fill=\"currentColor\" text-anchor=\"middle\">amod</textPath>\n",
              "    </text>\n",
              "    <path class=\"displacy-arrowhead\" d=\"M430,274.0 L422,262.0 438,262.0\" fill=\"currentColor\"/>\n",
              "</g>\n",
              "\n",
              "<g class=\"displacy-arrow\">\n",
              "    <path class=\"displacy-arc\" id=\"arrow-a808d478ac024410a2d97c549adea5f6-0-5\" stroke-width=\"2px\" d=\"M520,272.0 C520,47.0 1305.0,47.0 1305.0,272.0\" fill=\"none\" stroke=\"currentColor\"/>\n",
              "    <text dy=\"1.25em\" style=\"font-size: 0.8em; letter-spacing: 1px\">\n",
              "        <textPath xlink:href=\"#arrow-a808d478ac024410a2d97c549adea5f6-0-5\" class=\"displacy-label\" startOffset=\"50%\" side=\"left\" fill=\"currentColor\" text-anchor=\"middle\">nsubjpass</textPath>\n",
              "    </text>\n",
              "    <path class=\"displacy-arrowhead\" d=\"M520,274.0 L512,262.0 528,262.0\" fill=\"currentColor\"/>\n",
              "</g>\n",
              "\n",
              "<g class=\"displacy-arrow\">\n",
              "    <path class=\"displacy-arc\" id=\"arrow-a808d478ac024410a2d97c549adea5f6-0-6\" stroke-width=\"2px\" d=\"M520,272.0 C520,227.0 565.0,227.0 565.0,272.0\" fill=\"none\" stroke=\"currentColor\"/>\n",
              "    <text dy=\"1.25em\" style=\"font-size: 0.8em; letter-spacing: 1px\">\n",
              "        <textPath xlink:href=\"#arrow-a808d478ac024410a2d97c549adea5f6-0-6\" class=\"displacy-label\" startOffset=\"50%\" side=\"left\" fill=\"currentColor\" text-anchor=\"middle\">cc</textPath>\n",
              "    </text>\n",
              "    <path class=\"displacy-arrowhead\" d=\"M565.0,274.0 L573.0,262.0 557.0,262.0\" fill=\"currentColor\"/>\n",
              "</g>\n",
              "\n",
              "<g class=\"displacy-arrow\">\n",
              "    <path class=\"displacy-arc\" id=\"arrow-a808d478ac024410a2d97c549adea5f6-0-7\" stroke-width=\"2px\" d=\"M520,272.0 C520,182.0 660.0,182.0 660.0,272.0\" fill=\"none\" stroke=\"currentColor\"/>\n",
              "    <text dy=\"1.25em\" style=\"font-size: 0.8em; letter-spacing: 1px\">\n",
              "        <textPath xlink:href=\"#arrow-a808d478ac024410a2d97c549adea5f6-0-7\" class=\"displacy-label\" startOffset=\"50%\" side=\"left\" fill=\"currentColor\" text-anchor=\"middle\">conj</textPath>\n",
              "    </text>\n",
              "    <path class=\"displacy-arrowhead\" d=\"M660.0,274.0 L668.0,262.0 652.0,262.0\" fill=\"currentColor\"/>\n",
              "</g>\n",
              "\n",
              "<g class=\"displacy-arrow\">\n",
              "    <path class=\"displacy-arc\" id=\"arrow-a808d478ac024410a2d97c549adea5f6-0-8\" stroke-width=\"2px\" d=\"M790,272.0 C790,227.0 835.0,227.0 835.0,272.0\" fill=\"none\" stroke=\"currentColor\"/>\n",
              "    <text dy=\"1.25em\" style=\"font-size: 0.8em; letter-spacing: 1px\">\n",
              "        <textPath xlink:href=\"#arrow-a808d478ac024410a2d97c549adea5f6-0-8\" class=\"displacy-label\" startOffset=\"50%\" side=\"left\" fill=\"currentColor\" text-anchor=\"middle\">compound</textPath>\n",
              "    </text>\n",
              "    <path class=\"displacy-arrowhead\" d=\"M790,274.0 L782,262.0 798,262.0\" fill=\"currentColor\"/>\n",
              "</g>\n",
              "\n",
              "<g class=\"displacy-arrow\">\n",
              "    <path class=\"displacy-arc\" id=\"arrow-a808d478ac024410a2d97c549adea5f6-0-9\" stroke-width=\"2px\" d=\"M880,272.0 C880,137.0 1115.0,137.0 1115.0,272.0\" fill=\"none\" stroke=\"currentColor\"/>\n",
              "    <text dy=\"1.25em\" style=\"font-size: 0.8em; letter-spacing: 1px\">\n",
              "        <textPath xlink:href=\"#arrow-a808d478ac024410a2d97c549adea5f6-0-9\" class=\"displacy-label\" startOffset=\"50%\" side=\"left\" fill=\"currentColor\" text-anchor=\"middle\">compound</textPath>\n",
              "    </text>\n",
              "    <path class=\"displacy-arrowhead\" d=\"M880,274.0 L872,262.0 888,262.0\" fill=\"currentColor\"/>\n",
              "</g>\n",
              "\n",
              "<g class=\"displacy-arrow\">\n",
              "    <path class=\"displacy-arc\" id=\"arrow-a808d478ac024410a2d97c549adea5f6-0-10\" stroke-width=\"2px\" d=\"M970,272.0 C970,182.0 1110.0,182.0 1110.0,272.0\" fill=\"none\" stroke=\"currentColor\"/>\n",
              "    <text dy=\"1.25em\" style=\"font-size: 0.8em; letter-spacing: 1px\">\n",
              "        <textPath xlink:href=\"#arrow-a808d478ac024410a2d97c549adea5f6-0-10\" class=\"displacy-label\" startOffset=\"50%\" side=\"left\" fill=\"currentColor\" text-anchor=\"middle\">compound</textPath>\n",
              "    </text>\n",
              "    <path class=\"displacy-arrowhead\" d=\"M970,274.0 L962,262.0 978,262.0\" fill=\"currentColor\"/>\n",
              "</g>\n",
              "\n",
              "<g class=\"displacy-arrow\">\n",
              "    <path class=\"displacy-arc\" id=\"arrow-a808d478ac024410a2d97c549adea5f6-0-11\" stroke-width=\"2px\" d=\"M1060,272.0 C1060,227.0 1105.0,227.0 1105.0,272.0\" fill=\"none\" stroke=\"currentColor\"/>\n",
              "    <text dy=\"1.25em\" style=\"font-size: 0.8em; letter-spacing: 1px\">\n",
              "        <textPath xlink:href=\"#arrow-a808d478ac024410a2d97c549adea5f6-0-11\" class=\"displacy-label\" startOffset=\"50%\" side=\"left\" fill=\"currentColor\" text-anchor=\"middle\">compound</textPath>\n",
              "    </text>\n",
              "    <path class=\"displacy-arrowhead\" d=\"M1060,274.0 L1052,262.0 1068,262.0\" fill=\"currentColor\"/>\n",
              "</g>\n",
              "\n",
              "<g class=\"displacy-arrow\">\n",
              "    <path class=\"displacy-arc\" id=\"arrow-a808d478ac024410a2d97c549adea5f6-0-12\" stroke-width=\"2px\" d=\"M520,272.0 C520,92.0 1120.0,92.0 1120.0,272.0\" fill=\"none\" stroke=\"currentColor\"/>\n",
              "    <text dy=\"1.25em\" style=\"font-size: 0.8em; letter-spacing: 1px\">\n",
              "        <textPath xlink:href=\"#arrow-a808d478ac024410a2d97c549adea5f6-0-12\" class=\"displacy-label\" startOffset=\"50%\" side=\"left\" fill=\"currentColor\" text-anchor=\"middle\">conj</textPath>\n",
              "    </text>\n",
              "    <path class=\"displacy-arrowhead\" d=\"M1120.0,274.0 L1128.0,262.0 1112.0,262.0\" fill=\"currentColor\"/>\n",
              "</g>\n",
              "\n",
              "<g class=\"displacy-arrow\">\n",
              "    <path class=\"displacy-arc\" id=\"arrow-a808d478ac024410a2d97c549adea5f6-0-13\" stroke-width=\"2px\" d=\"M1240,272.0 C1240,227.0 1285.0,227.0 1285.0,272.0\" fill=\"none\" stroke=\"currentColor\"/>\n",
              "    <text dy=\"1.25em\" style=\"font-size: 0.8em; letter-spacing: 1px\">\n",
              "        <textPath xlink:href=\"#arrow-a808d478ac024410a2d97c549adea5f6-0-13\" class=\"displacy-label\" startOffset=\"50%\" side=\"left\" fill=\"currentColor\" text-anchor=\"middle\">auxpass</textPath>\n",
              "    </text>\n",
              "    <path class=\"displacy-arrowhead\" d=\"M1240,274.0 L1232,262.0 1248,262.0\" fill=\"currentColor\"/>\n",
              "</g>\n",
              "</svg></span>"
            ]
          },
          "metadata": {}
        }
      ]
    }
  ]
}